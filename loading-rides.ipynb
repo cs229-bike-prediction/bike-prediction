{
 "metadata": {
  "name": ""
 },
 "nbformat": 3,
 "nbformat_minor": 0,
 "worksheets": [
  {
   "cells": [
    {
     "cell_type": "code",
     "collapsed": false,
     "input": [
      "import numpy as np\n",
      "import matplotlib.pyplot as plt\n",
      "%pylab inline"
     ],
     "language": "python",
     "metadata": {},
     "outputs": [
      {
       "output_type": "stream",
       "stream": "stdout",
       "text": [
        "Populating the interactive namespace from numpy and matplotlib\n"
       ]
      }
     ],
     "prompt_number": 26
    },
    {
     "cell_type": "code",
     "collapsed": false,
     "input": [
      "rides = np.recfromcsv('./bike-rides/1. Journey Data Extract 01Jan-05Jan13.csv', usecols=tuple(range(9)))"
     ],
     "language": "python",
     "metadata": {},
     "outputs": [],
     "prompt_number": 55
    },
    {
     "cell_type": "code",
     "collapsed": false,
     "input": [
      "durations = rides.duration"
     ],
     "language": "python",
     "metadata": {},
     "outputs": [],
     "prompt_number": 59
    },
    {
     "cell_type": "code",
     "collapsed": false,
     "input": [
      "plt.hist(rides.duration, bins=30, range=(0, 1*60*60))"
     ],
     "language": "python",
     "metadata": {},
     "outputs": [
      {
       "metadata": {},
       "output_type": "pyout",
       "prompt_number": 60,
       "text": [
        "(array([  666.,  5751.,  9029.,  9570.,  9264.,  8224.,  7270.,  6016.,\n",
        "        5209.,  4127.,  3510.,  2887.,  2339.,  1769.,  1367.,   902.,\n",
        "         712.,   575.,   483.,   449.,   369.,   345.,   300.,   328.,\n",
        "         291.,   271.,   243.,   212.,   198.,   151.]),\n",
        " array([    0.,   120.,   240.,   360.,   480.,   600.,   720.,   840.,\n",
        "         960.,  1080.,  1200.,  1320.,  1440.,  1560.,  1680.,  1800.,\n",
        "        1920.,  2040.,  2160.,  2280.,  2400.,  2520.,  2640.,  2760.,\n",
        "        2880.,  3000.,  3120.,  3240.,  3360.,  3480.,  3600.]),\n",
        " <a list of 30 Patch objects>)"
       ]
      },
      {
       "metadata": {},
       "output_type": "display_data",
       "png": "[encoded data removed]",
       "text": [
        "<matplotlib.figure.Figure at 0x10d101e10>"
       ]
      }
     ],
     "prompt_number": 60
    },
    {
     "cell_type": "code",
     "collapsed": false,
     "input": [],
     "language": "python",
     "metadata": {},
     "outputs": [],
     "prompt_number": 60
    },
    {
     "cell_type": "code",
     "collapsed": false,
     "input": [],
     "language": "python",
     "metadata": {},
     "outputs": []
    }
   ],
   "metadata": {}
  }
 ]
}