{
 "metadata": {
  "name": ""
 },
 "nbformat": 3,
 "nbformat_minor": 0,
 "worksheets": [
  {
   "cells": [
    {
     "cell_type": "code",
     "collapsed": false,
     "input": [
      "%load_ext autoreload\n",
      "%autoreload 2\n",
      "%matplotlib inline\n",
      "from sklearn import svm\n",
      "from sklearn import linear_model\n",
      "from sklearn import metrics\n",
      "from sklearn.metrics import mean_absolute_error\n",
      "from sklearn.cluster import KMeans, MiniBatchKMeans\n",
      "from sklearn import preprocessing\n",
      "from sklearn import pipeline\n",
      "from sklearn import tree\n",
      "from sklearn.learning_curve import learning_curve\n",
      "import statsmodels.api as sm\n",
      "import numpy as np\n",
      "import matplotlib.pyplot as plt\n",
      "\n",
      "from bike_prediction import ml_test\n",
      "from bike_prediction import plot_learning_curve"
     ],
     "language": "python",
     "metadata": {},
     "outputs": [
      {
       "output_type": "stream",
       "stream": "stdout",
       "text": [
        "The autoreload extension is already loaded. To reload it, use:\n",
        "  %reload_ext autoreload\n"
       ]
      }
     ],
     "prompt_number": 11
    },
    {
     "cell_type": "code",
     "collapsed": false,
     "input": [
      "records = ml_test.load_records('XY8.csv')"
     ],
     "language": "python",
     "metadata": {},
     "outputs": [],
     "prompt_number": 34
    },
    {
     "cell_type": "code",
     "collapsed": false,
     "input": [
      "(stations, X, Y, locs) = ml_test.form_XY(records)"
     ],
     "language": "python",
     "metadata": {},
     "outputs": [],
     "prompt_number": 45
    },
    {
     "cell_type": "code",
     "collapsed": false,
     "input": [
      "dataset = ml_test.divide_dataset(stations, X, Y, locs)"
     ],
     "language": "python",
     "metadata": {},
     "outputs": [],
     "prompt_number": 46
    },
    {
     "cell_type": "code",
     "collapsed": false,
     "input": [
      "interesting_stations = [14, 153, 194, 300]"
     ],
     "language": "python",
     "metadata": {},
     "outputs": [],
     "prompt_number": 47
    },
    {
     "cell_type": "code",
     "collapsed": false,
     "input": [
      "n_clusters = 1\n",
      "cluster = KMeans(n_clusters=n_clusters)\n",
      "labels = cluster.fit_predict(dataset['tr_locs'])"
     ],
     "language": "python",
     "metadata": {},
     "outputs": [],
     "prompt_number": 48
    },
    {
     "cell_type": "code",
     "collapsed": false,
     "input": [
      "# Confirm that we have reasonable boundaries\n",
      "plt.plot(np.histogram(labels, range(n_clusters+1))[0])"
     ],
     "language": "python",
     "metadata": {},
     "outputs": [
      {
       "metadata": {},
       "output_type": "pyout",
       "prompt_number": 49,
       "text": [
        "[<matplotlib.lines.Line2D at 0x109863b90>]"
       ]
      },
      {
       "metadata": {},
       "output_type": "display_data",
       "png": "[encoded data removed]",
       "text": [
        "<matplotlib.figure.Figure at 0x10a1d2890>"
       ]
      }
     ],
     "prompt_number": 49
    },
    {
     "cell_type": "code",
     "collapsed": false,
     "input": [
      "poly = preprocessing.PolynomialFeatures(degree=3)\n",
      "scaler = preprocessing.StandardScaler()\n",
      "\n",
      "poly_tr_X = (scaler.fit_transform(poly.fit_transform(dataset['tr_X'])))"
     ],
     "language": "python",
     "metadata": {},
     "outputs": [],
     "prompt_number": 50
    },
    {
     "cell_type": "code",
     "collapsed": false,
     "input": [
      "estimators = []\n",
      "for i in range(n_clusters):\n",
      "    clf = linear_model.LinearRegression()\n",
      "    clf.fit(poly_tr_X[labels==i,:], dataset['tr_Y'][labels==i])\n",
      "    estimators.append(clf)\n",
      "\n",
      "# clf = linear_model.Ridge(alpha=0.5)\n",
      "# clf.fit(poly_tr_X, dataset['tr_Y'])\n",
      "\n",
      "# clf = linear_model.SGDRegressor(eta0=0.00001, n_iter=30, alpha=0.00001, learning_rate='invscaling', power_t=0.3)\n",
      "# clf.fit(poly_tr_X, dataset['tr_Y'])\n",
      "\n",
      "# clf = linear_model.BayesianRidge(lambda_1=0.000002)\n",
      "# clf.fit(poly_tr_X, dataset['tr_Y'])\n",
      "\n",
      "# pl = pipeline.make_pipeline(preprocessing.PolynomialFeatures(degree=3),\n",
      "#                             linear_model.Ridge())\n",
      "# pl.fit(scaler.transform(dataset['tr_X']), dataset['tr_Y'])\n",
      "# clf = pl"
     ],
     "language": "python",
     "metadata": {},
     "outputs": [],
     "prompt_number": 51
    },
    {
     "cell_type": "code",
     "collapsed": false,
     "input": [
      "def predict(X, locs):\n",
      "    # Predict separately for each cluster\n",
      "    tst_labels = cluster.predict(locs)\n",
      "    pr = np.zeros(tst_labels.shape)\n",
      "    for i in range(n_clusters):\n",
      "        pr[tst_labels==i] = estimators[i].predict(scaler.transform(poly.transform(X[tst_labels==i])))\n",
      "    return pr"
     ],
     "language": "python",
     "metadata": {},
     "outputs": [],
     "prompt_number": 13
    },
    {
     "cell_type": "code",
     "collapsed": false,
     "input": [
      "# predictions = clf.predict(scaler.transform(poly.transform(dataset['tst_X'])))\n",
      "predictions = predict(dataset['tst_X'], dataset['tst_locs'])\n",
      "tst_Y = dataset['tst_Y']\n",
      "\n",
      "print 'train,metrics.explained_variance_score(dataset['tr_Y'], predict(dataset['tr_X'], dataset['tr_locs']))\n",
      "print metrics.explained_variance_score(tst_Y, predictions)\n",
      "\n",
      "for station_id in interesting_stations:\n",
      "    pr = predictions[dataset['tst_stations']==station_id]\n",
      "    tr = tst_Y[dataset['tst_stations']==station_id]\n",
      "    ml_test.plot_predicted_vs_real_zoom(pr, tr)\n",
      "    print metrics.explained_variance_score(tr, pr)"
     ],
     "language": "python",
     "metadata": {},
     "outputs": [],
     "prompt_number": "*"
    },
    {
     "cell_type": "heading",
     "level": 3,
     "metadata": {},
     "source": [
      "Old Stuff"
     ]
    },
    {
     "cell_type": "code",
     "collapsed": false,
     "input": [
      "num_clusters = 10\n",
      "k = KMeans(n_clusters=num_clusters)\n",
      "k.fit(dataset['tr_X'])"
     ],
     "language": "python",
     "metadata": {},
     "outputs": []
    },
    {
     "cell_type": "code",
     "collapsed": false,
     "input": [
      "# Build models\n",
      "poiss = []\n",
      "linregs = []\n",
      "svms = []\n",
      "for i in range(num_clusters):\n",
      "    print i\n",
      "    x_rows = dataset['tr_X'][k.labels_ == i,:]\n",
      "    y_rows = dataset['tr_Y'][k.labels_ == i]\n",
      "\n",
      "    # pois = sm.Poisson(y_rows, x_rows).fit()\n",
      "    # poiss.append(pois)\n",
      "    \n",
      "    # linreg = linear_model.LinearRegression()\n",
      "    # linreg.fit(x_rows, y_rows)\n",
      "    # linregs.append(linreg)\n",
      "    svmi = svm.SVR()\n",
      "    svmi.fit(x_rows, y_rows)\n",
      "    svms.append(svmi)"
     ],
     "language": "python",
     "metadata": {},
     "outputs": []
    },
    {
     "cell_type": "code",
     "collapsed": false,
     "input": [
      "# Predict for each station\n",
      "ml_test.predict_all(dataset, k, svms)"
     ],
     "language": "python",
     "metadata": {},
     "outputs": []
    },
    {
     "cell_type": "code",
     "collapsed": false,
     "input": [
      "# Predict for each station\n",
      "ml_test.predict_on_station(dataset, k, linregs, poiss, 14)\n",
      "ml_test.predict_on_station(dataset, k, linregs, poiss, 55)\n",
      "ml_test.predict_on_station(dataset, k, linregs, poiss, 101)"
     ],
     "language": "python",
     "metadata": {},
     "outputs": []
    },
    {
     "cell_type": "code",
     "collapsed": false,
     "input": [
      "# f, (ax1, ax2) = plt.subplots(1, 2, sharey=True)\n",
      "\n",
      "plt.plot(linreg_predicts, alpha=0.5, linewidth=2, color='g')\n",
      "plt.plot(Y_station_a, alpha=0.5, linewidth=2, color='b')\n",
      "plt.xlim(0,600)\n",
      "\n",
      "# ax2.plot(predictions, alpha=0.5, linewidth=2, color='g')\n",
      "# ax2.plot(Y_station_a, alpha=0.5, linewidth=2, color='b')\n",
      "# ax2.xlim(800,1200)"
     ],
     "language": "python",
     "metadata": {},
     "outputs": []
    },
    {
     "cell_type": "code",
     "collapsed": false,
     "input": [
      "# plt.plot(predictions, alpha=0.3, linewidth=2)\n",
      "# plt.plot(predictions_no_weekend, alpha=0.3, linewidth=2)\n",
      "# plt.plot(Y[1701:], alpha=0.3, linewidth=2)"
     ],
     "language": "python",
     "metadata": {},
     "outputs": []
    },
    {
     "cell_type": "code",
     "collapsed": false,
     "input": [
      "plt.plot(predictions, alpha=0.5, linewidth=2)\n",
      "plt.plot(Y[1701:], alpha=0.5, linewidth=2)"
     ],
     "language": "python",
     "metadata": {},
     "outputs": []
    },
    {
     "cell_type": "code",
     "collapsed": false,
     "input": [],
     "language": "python",
     "metadata": {},
     "outputs": []
    },
    {
     "cell_type": "code",
     "collapsed": false,
     "input": [
      "# Try to do a scatter plot\n",
      "labels = k.labels_\n",
      "lats = dataset['tr_X'][:1000,5]\n",
      "longs = dataset['tr_X'][:1000,6]\n",
      "plt.scatter(lats, longs, c=labels[:1000], alpha=0.01)"
     ],
     "language": "python",
     "metadata": {},
     "outputs": []
    }
   ],
   "metadata": {}
  }
 ]
}