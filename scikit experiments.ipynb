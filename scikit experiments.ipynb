{
 "metadata": {
  "name": ""
 },
 "nbformat": 3,
 "nbformat_minor": 0,
 "worksheets": [
  {
   "cells": [
    {
     "cell_type": "code",
     "collapsed": false,
     "input": [
      "%load_ext autoreload\n",
      "%autoreload 2\n",
      "%matplotlib inline\n",
      "from sklearn import svm\n",
      "import numpy as np"
     ],
     "language": "python",
     "metadata": {},
     "outputs": [
      {
       "output_type": "stream",
       "stream": "stdout",
       "text": [
        "The autoreload extension is already loaded. To reload it, use:\n",
        "  %reload_ext autoreload\n"
       ]
      }
     ],
     "prompt_number": 8
    },
    {
     "cell_type": "code",
     "collapsed": false,
     "input": [
      "recZ = np.recfromcsv('XY4.csv', names=True, usecols=(1,2,3,4,5,6,7,8))\n",
      "recZ"
     ],
     "language": "python",
     "metadata": {},
     "outputs": [
      {
       "metadata": {},
       "output_type": "pyout",
       "prompt_number": 81,
       "text": [
        "rec.array([(120.0, 315.0, 358.0, 137.0, 769.0, 32, 4, 92.0),\n",
        "       (61.0, 266.0, 237.0, 77.0, 822.0, 32, 4, 55.0),\n",
        "       (25.0, 244.0, 263.0, 51.0, 361.0, 32, 4, 38.0), ...,\n",
        "       (486.0, 651.0, 427.0, 405.0, 205.0, 46, 1, 339.0),\n",
        "       (487.0, 565.0, 253.0, 387.0, 248.0, 46, 1, 329.0),\n",
        "       (351.0, 268.0, 138.0, 334.0, 286.0, 46, 1, 305.0)], \n",
        "      dtype=[('d1', '<f8'), ('d2', '<f8'), ('d3', '<f8'), ('d7', '<f8'), ('d14', '<f8'), ('mean_temperaturef', '<i8'), ('weather', '<i8'), ('y', '<f8')])"
       ]
      }
     ],
     "prompt_number": 81
    },
    {
     "cell_type": "code",
     "collapsed": false,
     "input": [
      "d1 = np.array(recZ['d1'], np.int)\n",
      "d2 = np.array(recZ['d2'], np.int)\n",
      "d3 = np.array(recZ['d3'], np.int)\n",
      "d7 = np.array(recZ['d7'], np.int)\n",
      "d14 = np.array(recZ['d14'], np.int)\n",
      "meantemp = np.array(recZ['mean_temperaturef'], np.int)\n",
      "weather = np.array(recZ['weather'], np.int)"
     ],
     "language": "python",
     "metadata": {},
     "outputs": [
      {
       "metadata": {},
       "output_type": "pyout",
       "prompt_number": 87,
       "text": [
        "array([315, 266, 244, ..., 651, 565, 268])"
       ]
      }
     ],
     "prompt_number": 87
    },
    {
     "cell_type": "code",
     "collapsed": false,
     "input": [
      "X = np.array([d1, d2, d3, d7, d14, meantemp, weather], np.int)\n",
      "Y = recZ['y']"
     ],
     "language": "python",
     "metadata": {},
     "outputs": [],
     "prompt_number": 90
    },
    {
     "cell_type": "code",
     "collapsed": false,
     "input": [
      "X"
     ],
     "language": "python",
     "metadata": {},
     "outputs": [
      {
       "metadata": {},
       "output_type": "pyout",
       "prompt_number": 89,
       "text": [
        "array([[120,  61,  25, ..., 486, 487, 351],\n",
        "       [315, 266, 244, ..., 651, 565, 268],\n",
        "       [358, 237, 263, ..., 427, 253, 138],\n",
        "       ..., \n",
        "       [769, 822, 361, ..., 205, 248, 286],\n",
        "       [ 32,  32,  32, ...,  46,  46,  46],\n",
        "       [  4,   4,   4, ...,   1,   1,   1]])"
       ]
      }
     ],
     "prompt_number": 89
    },
    {
     "cell_type": "code",
     "collapsed": false,
     "input": [
      "clf = svm.SVR()\n",
      "clf.fit(X[:2000], Y[:2000])"
     ],
     "language": "python",
     "metadata": {},
     "outputs": [
      {
       "metadata": {},
       "output_type": "pyout",
       "prompt_number": 71,
       "text": [
        "SVR(C=1.0, cache_size=200, coef0=0.0, degree=3, epsilon=0.1, gamma=0.0,\n",
        "  kernel='rbf', max_iter=-1, probability=False, random_state=None,\n",
        "  shrinking=True, tol=0.001, verbose=False)"
       ]
      }
     ],
     "prompt_number": 71
    },
    {
     "cell_type": "code",
     "collapsed": false,
     "input": [
      "clf.predict(X[2001])"
     ],
     "language": "python",
     "metadata": {},
     "outputs": [
      {
       "metadata": {},
       "output_type": "pyout",
       "prompt_number": 73,
       "text": [
        "array([ 509.9])"
       ]
      }
     ],
     "prompt_number": 73
    },
    {
     "cell_type": "code",
     "collapsed": false,
     "input": [
      "X[2001]"
     ],
     "language": "python",
     "metadata": {},
     "outputs": [
      {
       "metadata": {},
       "output_type": "pyout",
       "prompt_number": 74,
       "text": [
        "array([  8.23000000e+002,   8.92000000e+002,   5.43000000e+002,\n",
        "         3.84000000e+002,   1.31600000e+003,   2.07507571e-322,\n",
        "         0.00000000e+000])"
       ]
      }
     ],
     "prompt_number": 74
    },
    {
     "cell_type": "code",
     "collapsed": false,
     "input": [
      "np.recfromcsv('XY3.csv')"
     ],
     "language": "python",
     "metadata": {},
     "outputs": [
      {
       "metadata": {},
       "output_type": "pyout",
       "prompt_number": 7,
       "text": [
        "rec.array([ ('2013-01-15 00:00:00', 0.0, 8.0, 0.0, 0.0, 0.0, 32, 4, 51.49812559, -0.132102166, 0.0),\n",
        "       ('2013-01-15 00:00:00', 0.0, 0.0, 0.0, 0.0, 0.0, 32, 4, 51.501391, -0.205991, 0.0),\n",
        "       ('2013-01-15 00:00:00', 0.0, 0.0, 0.0, 0.0, 0.0, 32, 4, 51.524826, -0.176268, 0.0),\n",
        "       ...,\n",
        "       ('2013-04-27 23:00:00', 2.0, 0.0, 1.0, 0.0, 0.0, 46, 1, 51.524564, -0.116279, 1.0),\n",
        "       ('2013-04-27 23:00:00', 0.0, 0.0, 0.0, 1.0, 0.0, 46, 1, 51.50039792, -0.193068385, 0.0),\n",
        "       ('2013-04-27 23:00:00', 0.0, 2.0, 1.0, 1.0, 0.0, 46, 1, 51.528936, -0.055894, 0.0)], \n",
        "      dtype=[('start_date', 'S19'), ('d1', '<f8'), ('d14', '<f8'), ('d2', '<f8'), ('d3', '<f8'), ('d7', '<f8'), ('mean_temperaturef', '<i8'), ('weather', '<i8'), ('lats', '<f8'), ('longs', '<f8'), ('y', '<f8')])"
       ]
      }
     ],
     "prompt_number": 7
    },
    {
     "cell_type": "code",
     "collapsed": false,
     "input": [],
     "language": "python",
     "metadata": {},
     "outputs": []
    }
   ],
   "metadata": {}
  }
 ]
}