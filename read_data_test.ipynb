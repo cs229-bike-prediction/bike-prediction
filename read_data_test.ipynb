{
 "metadata": {
  "name": ""
 },
 "nbformat": 3,
 "nbformat_minor": 0,
 "worksheets": [
  {
   "cells": [
    {
     "cell_type": "code",
     "collapsed": false,
     "input": [
      "%load_ext autoreload\n",
      "%autoreload 2\n",
      "%matplotlib inline\n",
      "import pandas as pd\n",
      "import bike_prediction.read_data\n",
      "import timeit"
     ],
     "language": "python",
     "metadata": {},
     "outputs": [],
     "prompt_number": "*"
    },
    {
     "cell_type": "code",
     "collapsed": false,
     "input": [
      "#timeit.timeit(stmt='bike_prediction.read_data.get_rides()', setup=\"import bike_prediction.read_data\", number=2)\n",
      "rides = bike_prediction.read_data.get_rides(20)"
     ],
     "language": "python",
     "metadata": {},
     "outputs": [
      {
       "output_type": "stream",
       "stream": "stdout",
       "text": [
        "<open file './bike-rides/2013-2014/01. Journey Data Extract 01Jan-05Jan13.csv', mode 'rb' at 0x10a95d780>\n",
        "<open file './bike-rides/2013-2014/02. Journey Data Extract 06Jan-02Feb13.csv', mode 'rb' at 0x10a95d270>"
       ]
      },
      {
       "output_type": "stream",
       "stream": "stdout",
       "text": [
        "\n",
        "<open file './bike-rides/2013-2014/03. Journey Data Extract 03Feb-02Mar13.csv', mode 'rb' at 0x10a95d5d0>"
       ]
      },
      {
       "output_type": "stream",
       "stream": "stdout",
       "text": [
        "\n",
        "<open file './bike-rides/2013-2014/04. Journey Data Extract 03Mar-31Mar13.csv', mode 'rb' at 0x10a95d030>"
       ]
      },
      {
       "output_type": "stream",
       "stream": "stdout",
       "text": [
        "\n",
        "<open file './bike-rides/2013-2014/05. Journey Data Extract 01Apr-27Apr13.csv', mode 'rb' at 0x10a95d8a0>"
       ]
      },
      {
       "output_type": "stream",
       "stream": "stdout",
       "text": [
        "\n",
        "<open file './bike-rides/2013-2014/06. Journey Data Extract 28Apr-25May13.csv', mode 'rb' at 0x10a95d6f0>"
       ]
      },
      {
       "output_type": "stream",
       "stream": "stdout",
       "text": [
        "\n",
        "<open file './bike-rides/2013-2014/07. Journey Data Extract 26May-22Jun13.csv', mode 'rb' at 0x10a95d540>"
       ]
      },
      {
       "output_type": "stream",
       "stream": "stdout",
       "text": [
        "\n",
        "<open file './bike-rides/2013-2014/08. Journey Data Extract 23Jun-20Jul13.csv', mode 'rb' at 0x10a95d660>"
       ]
      },
      {
       "output_type": "stream",
       "stream": "stdout",
       "text": [
        "\n",
        "<open file './bike-rides/2013-2014/09. Journey Data Extract 21Jul-17Aug13.csv', mode 'rb' at 0x10a95d930>"
       ]
      },
      {
       "output_type": "stream",
       "stream": "stdout",
       "text": [
        "\n",
        "<open file './bike-rides/2013-2014/10. Journey Data Extract 18Aug-13Sep13.csv', mode 'rb' at 0x10a95dae0>"
       ]
      },
      {
       "output_type": "stream",
       "stream": "stdout",
       "text": [
        "\n",
        "<open file './bike-rides/2013-2014/11. Journey Data Extract 14Sep13-12Oct13.csv', mode 'rb' at 0x10a95db70>"
       ]
      },
      {
       "output_type": "stream",
       "stream": "stdout",
       "text": [
        "\n",
        "<open file './bike-rides/2013-2014/12. Journey Data Extract 13Oct13-09Nov13.csv', mode 'rb' at 0x10a95dd20>"
       ]
      },
      {
       "output_type": "stream",
       "stream": "stdout",
       "text": [
        "\n",
        "<open file './bike-rides/2013-2014/13. Journey Data Extract 10Nov13-07Dec13.csv', mode 'rb' at 0x10a95df60>"
       ]
      },
      {
       "output_type": "stream",
       "stream": "stdout",
       "text": [
        "\n",
        "<open file './bike-rides/2013-2014/14. Journey Data Extract 08Dec13-04Jan14.csv', mode 'rb' at 0x10a95de40>"
       ]
      },
      {
       "output_type": "stream",
       "stream": "stdout",
       "text": [
        "\n",
        "<open file './bike-rides/2013-2014/15. Journey Data Extract 05Jan14-02Feb14.csv', mode 'rb' at 0x10a95d390>"
       ]
      },
      {
       "output_type": "stream",
       "stream": "stdout",
       "text": [
        "\n",
        "<open file './bike-rides/2013-2014/16. Journey Data Extract 03Feb14-01Mar14.csv', mode 'rb' at 0x10a7ee5d0>"
       ]
      },
      {
       "output_type": "stream",
       "stream": "stdout",
       "text": [
        "\n",
        "<open file './bike-rides/2013-2014/17. Journey Data Extract 02Mar14-31Mar14.csv', mode 'rb' at 0x10a7ee660>"
       ]
      }
     ],
     "prompt_number": "*"
    },
    {
     "cell_type": "code",
     "collapsed": false,
     "input": [
      "filtered_rides = bike_prediction.read_data.filter_top_stations(rides, 50)"
     ],
     "language": "python",
     "metadata": {},
     "outputs": [],
     "prompt_number": "*"
    },
    {
     "cell_type": "code",
     "collapsed": false,
     "input": [
      "usage = bike_prediction.read_data.read_data(filtered_rides)"
     ],
     "language": "python",
     "metadata": {},
     "outputs": [],
     "prompt_number": "*"
    },
    {
     "cell_type": "code",
     "collapsed": false,
     "input": [
      "usage_with_historic = bike_prediction.read_data.add_historic_features(usage)"
     ],
     "language": "python",
     "metadata": {},
     "outputs": [],
     "prompt_number": "*"
    },
    {
     "cell_type": "code",
     "collapsed": false,
     "input": [
      "X = usage_with_historic.stack().reset_index(level=1)\n",
      "X = bike_prediction.read_data.filter_unknown_history(X)\n",
      "X = bike_prediction.read_data.add_weather_features(X)\n",
      "X = bike_prediction.read_data.add_weekday(X)"
     ],
     "language": "python",
     "metadata": {},
     "outputs": [
      {
       "ename": "AttributeError",
       "evalue": "'module' object has no attribute 'add_weekday'",
       "output_type": "pyerr",
       "traceback": [
        "\u001b[0;31m---------------------------------------------------------------------------\u001b[0m\n\u001b[0;31mAttributeError\u001b[0m                            Traceback (most recent call last)",
        "\u001b[0;32m<ipython-input-14-0c5a421120a8>\u001b[0m in \u001b[0;36m<module>\u001b[0;34m()\u001b[0m\n\u001b[1;32m      2\u001b[0m \u001b[0mX\u001b[0m \u001b[0;34m=\u001b[0m \u001b[0mbike_prediction\u001b[0m\u001b[0;34m.\u001b[0m\u001b[0mread_data\u001b[0m\u001b[0;34m.\u001b[0m\u001b[0mfilter_unknown_history\u001b[0m\u001b[0;34m(\u001b[0m\u001b[0mX\u001b[0m\u001b[0;34m)\u001b[0m\u001b[0;34m\u001b[0m\u001b[0m\n\u001b[1;32m      3\u001b[0m \u001b[0mX\u001b[0m \u001b[0;34m=\u001b[0m \u001b[0mbike_prediction\u001b[0m\u001b[0;34m.\u001b[0m\u001b[0mread_data\u001b[0m\u001b[0;34m.\u001b[0m\u001b[0madd_weather_features\u001b[0m\u001b[0;34m(\u001b[0m\u001b[0mX\u001b[0m\u001b[0;34m)\u001b[0m\u001b[0;34m\u001b[0m\u001b[0m\n\u001b[0;32m----> 4\u001b[0;31m \u001b[0mX\u001b[0m \u001b[0;34m=\u001b[0m \u001b[0mbike_prediction\u001b[0m\u001b[0;34m.\u001b[0m\u001b[0mread_data\u001b[0m\u001b[0;34m.\u001b[0m\u001b[0madd_weekday\u001b[0m\u001b[0;34m(\u001b[0m\u001b[0mX\u001b[0m\u001b[0;34m)\u001b[0m\u001b[0;34m\u001b[0m\u001b[0m\n\u001b[0m",
        "\u001b[0;31mAttributeError\u001b[0m: 'module' object has no attribute 'add_weekday'"
       ]
      }
     ],
     "prompt_number": 14
    },
    {
     "cell_type": "code",
     "collapsed": false,
     "input": [
      "X = bike_prediction.read_data.add_lat_long(X)\n",
      "X = bike_prediction.read_data.prepare_for_write(X)"
     ],
     "language": "python",
     "metadata": {},
     "outputs": [],
     "prompt_number": 7
    },
    {
     "cell_type": "code",
     "collapsed": false,
     "input": [
      "X.to_csv('XY8.csv')"
     ],
     "language": "python",
     "metadata": {},
     "outputs": [],
     "prompt_number": "*"
    },
    {
     "cell_type": "code",
     "collapsed": false,
     "input": [
      "# X['Y']['2013-01-20'].plot()\n",
      "X['2013-04-18']"
     ],
     "language": "python",
     "metadata": {},
     "outputs": [],
     "prompt_number": "*"
    },
    {
     "cell_type": "code",
     "collapsed": false,
     "input": [
      "X[X['StartStation Id']==14]['Y']['2014'].plot()"
     ],
     "language": "python",
     "metadata": {},
     "outputs": [],
     "prompt_number": "*"
    },
    {
     "cell_type": "code",
     "collapsed": false,
     "input": [],
     "language": "python",
     "metadata": {},
     "outputs": []
    }
   ],
   "metadata": {}
  }
 ]
}