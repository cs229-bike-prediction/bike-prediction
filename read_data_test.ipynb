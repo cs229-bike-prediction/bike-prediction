{
 "metadata": {
  "name": ""
 },
 "nbformat": 3,
 "nbformat_minor": 0,
 "worksheets": [
  {
   "cells": [
    {
     "cell_type": "code",
     "collapsed": false,
     "input": [
      "%load_ext autoreload\n",
      "%autoreload 2\n",
      "%matplotlib inline\n",
      "import pandas as pd\n",
      "import bike_prediction.read_data\n",
      "import timeit"
     ],
     "language": "python",
     "metadata": {},
     "outputs": [],
     "prompt_number": 1
    },
    {
     "cell_type": "code",
     "collapsed": false,
     "input": [
      "#timeit.timeit(stmt='bike_prediction.read_data.get_rides()', setup=\"import bike_prediction.read_data\", number=2)\n",
      "rides = bike_prediction.read_data.get_rides(39)"
     ],
     "language": "python",
     "metadata": {},
     "outputs": [
      {
       "output_type": "stream",
       "stream": "stdout",
       "text": [
        "<open file './bike-rides/all/01. Journey Data Extract 04Jan-31Jan 12.csv', mode 'rb' at 0x11daa41e0>\n",
        "<open file './bike-rides/all/02. Journey Data Extract_01Feb-29Feb 12.csv', mode 'rb' at 0x11daa40c0>"
       ]
      },
      {
       "output_type": "stream",
       "stream": "stdout",
       "text": [
        "\n",
        "<open file './bike-rides/all/03. Journey Data Extract_01Mar-31Mar12.csv', mode 'rb' at 0x11daa4930>"
       ]
      },
      {
       "output_type": "stream",
       "stream": "stdout",
       "text": [
        "\n",
        "<open file './bike-rides/all/04. Journey Data Extract_1Apr-28Apr12.csv', mode 'rb' at 0x11daa4420>"
       ]
      },
      {
       "output_type": "stream",
       "stream": "stdout",
       "text": [
        "\n",
        "<open file './bike-rides/all/05. Journey Data Extract_29Apr-26May12.csv', mode 'rb' at 0x11daa45d0>"
       ]
      },
      {
       "output_type": "stream",
       "stream": "stdout",
       "text": [
        "\n",
        "<open file './bike-rides/all/06. Journey Data Extract_27May-23Jun12.csv', mode 'rb' at 0x11daa4300>"
       ]
      },
      {
       "output_type": "stream",
       "stream": "stdout",
       "text": [
        "\n",
        "<open file './bike-rides/all/07. Journey Data Extract_24Jun-21Jul12.csv', mode 'rb' at 0x11daa4810>"
       ]
      },
      {
       "output_type": "stream",
       "stream": "stdout",
       "text": [
        "\n",
        "<open file './bike-rides/all/08. Journey Data Extract 22Jul-18Aug12.csv', mode 'rb' at 0x11daa46f0>"
       ]
      },
      {
       "output_type": "stream",
       "stream": "stdout",
       "text": [
        "\n",
        "<open file './bike-rides/all/09. Journey Data Extract 19Aug-20 Aug12.csv', mode 'rb' at 0x11daa49c0>"
       ]
      },
      {
       "output_type": "stream",
       "stream": "stdout",
       "text": [
        "\n",
        "<open file './bike-rides/all/10. Journey Data Extract 21Aug-22 Aug12.csv', mode 'rb' at 0x11daa4a50>"
       ]
      },
      {
       "output_type": "stream",
       "stream": "stdout",
       "text": [
        "\n",
        "<open file './bike-rides/all/11. Journey Data Extract 23Aug-25 Aug12.csv', mode 'rb' at 0x11daa4ae0>"
       ]
      },
      {
       "output_type": "stream",
       "stream": "stdout",
       "text": [
        "\n",
        "<open file './bike-rides/all/12. Journey Data Extract 26Aug-27 Aug12.csv', mode 'rb' at 0x11daa4b70>"
       ]
      },
      {
       "output_type": "stream",
       "stream": "stdout",
       "text": [
        "\n",
        "<open file './bike-rides/all/13. Journey Data Extract 28Aug-29 Aug12.csv', mode 'rb' at 0x11daa4c00>"
       ]
      },
      {
       "output_type": "stream",
       "stream": "stdout",
       "text": [
        "\n",
        "<open file './bike-rides/all/14. Journey Data Extract 30Aug-31 Aug12.csv', mode 'rb' at 0x11daa4c90>"
       ]
      },
      {
       "output_type": "stream",
       "stream": "stdout",
       "text": [
        "\n",
        "<open file './bike-rides/all/15. Journey Data Extract 01Sep-30Sep12.csv', mode 'rb' at 0x11daa4d20>"
       ]
      },
      {
       "output_type": "stream",
       "stream": "stdout",
       "text": [
        "\n",
        "<open file './bike-rides/all/16. Journey Data Extract 01Oct-31Oct12.csv', mode 'rb' at 0x11daa4db0>"
       ]
      },
      {
       "output_type": "stream",
       "stream": "stdout",
       "text": [
        "\n",
        "<open file './bike-rides/all/17. Journey Data Extract 01Nov-30Nov12.csv', mode 'rb' at 0x11daa4e40>"
       ]
      },
      {
       "output_type": "stream",
       "stream": "stdout",
       "text": [
        "\n",
        "<open file './bike-rides/all/18. Journey Data Extract 01Dec-31Dec12.csv', mode 'rb' at 0x11daa4ed0>"
       ]
      },
      {
       "output_type": "stream",
       "stream": "stdout",
       "text": [
        "\n",
        "<open file './bike-rides/all/19. Journey Data Extract 01Jan-05Jan13.csv', mode 'rb' at 0x11daa4f60>"
       ]
      },
      {
       "output_type": "stream",
       "stream": "stdout",
       "text": [
        "\n",
        "<open file './bike-rides/all/20. Journey Data Extract 06Jan-02Feb13.csv', mode 'rb' at 0x10b7bd030>"
       ]
      },
      {
       "output_type": "stream",
       "stream": "stdout",
       "text": [
        "\n",
        "<open file './bike-rides/all/21. Journey Data Extract 03Feb-02Mar13.csv', mode 'rb' at 0x10b7bd0c0>"
       ]
      },
      {
       "output_type": "stream",
       "stream": "stdout",
       "text": [
        "\n",
        "<open file './bike-rides/all/22. Journey Data Extract 03Mar-31Mar13.csv', mode 'rb' at 0x10b7bd150>"
       ]
      },
      {
       "output_type": "stream",
       "stream": "stdout",
       "text": [
        "\n",
        "<open file './bike-rides/all/23. Journey Data Extract 01Apr-27Apr13.csv', mode 'rb' at 0x10b7bd1e0>"
       ]
      },
      {
       "output_type": "stream",
       "stream": "stdout",
       "text": [
        "\n",
        "<open file './bike-rides/all/24. Journey Data Extract 28Apr-25May13.csv', mode 'rb' at 0x10b7bd270>"
       ]
      },
      {
       "output_type": "stream",
       "stream": "stdout",
       "text": [
        "\n",
        "<open file './bike-rides/all/25. Journey Data Extract 26May-22Jun13.csv', mode 'rb' at 0x10b7bd300>"
       ]
      },
      {
       "output_type": "stream",
       "stream": "stdout",
       "text": [
        "\n",
        "<open file './bike-rides/all/26. Journey Data Extract 23Jun-20Jul13.csv', mode 'rb' at 0x10b7bd390>"
       ]
      },
      {
       "output_type": "stream",
       "stream": "stdout",
       "text": [
        "\n",
        "<open file './bike-rides/all/27. Journey Data Extract 21Jul-17Aug13.csv', mode 'rb' at 0x10b7bd420>"
       ]
      },
      {
       "output_type": "stream",
       "stream": "stdout",
       "text": [
        "\n",
        "<open file './bike-rides/all/28. Journey Data Extract 18Aug-13Sep13.csv', mode 'rb' at 0x10b7bd4b0>"
       ]
      },
      {
       "output_type": "stream",
       "stream": "stdout",
       "text": [
        "\n",
        "<open file './bike-rides/all/29. Journey Data Extract 14Sep13-12Oct13.csv', mode 'rb' at 0x10b7bd540>"
       ]
      },
      {
       "output_type": "stream",
       "stream": "stdout",
       "text": [
        "\n",
        "<open file './bike-rides/all/30. Journey Data Extract 13Oct13-09Nov13.csv', mode 'rb' at 0x10b7bd5d0>"
       ]
      },
      {
       "output_type": "stream",
       "stream": "stdout",
       "text": [
        "\n",
        "<open file './bike-rides/all/31. Journey Data Extract 10Nov13-07Dec13.csv', mode 'rb' at 0x10b7bd660>"
       ]
      },
      {
       "output_type": "stream",
       "stream": "stdout",
       "text": [
        "\n",
        "<open file './bike-rides/all/32. Journey Data Extract 08Dec13-04Jan14.csv', mode 'rb' at 0x10b7bd6f0>"
       ]
      },
      {
       "output_type": "stream",
       "stream": "stdout",
       "text": [
        "\n",
        "<open file './bike-rides/all/33. Journey Data Extract 05Jan14-02Feb14.csv', mode 'rb' at 0x10b7bd780>"
       ]
      },
      {
       "output_type": "stream",
       "stream": "stdout",
       "text": [
        "\n",
        "<open file './bike-rides/all/34. Journey Data Extract 03Feb14-01Mar14.csv', mode 'rb' at 0x10b7bd810>"
       ]
      },
      {
       "output_type": "stream",
       "stream": "stdout",
       "text": [
        "\n",
        "<open file './bike-rides/all/35. Journey Data Extract 02Mar14-31Mar14.csv', mode 'rb' at 0x10b7bd8a0>"
       ]
      },
      {
       "output_type": "stream",
       "stream": "stdout",
       "text": [
        "\n",
        "<open file './bike-rides/all/36. Journey Data Extract 01Apr14-26Apr14.csv', mode 'rb' at 0x10b7bd930>"
       ]
      },
      {
       "output_type": "stream",
       "stream": "stdout",
       "text": [
        "\n",
        "<open file './bike-rides/all/37. Journey Data Extract 27Apr14-24May14.csv', mode 'rb' at 0x10b7bd9c0>"
       ]
      },
      {
       "output_type": "stream",
       "stream": "stdout",
       "text": [
        "\n",
        "<open file './bike-rides/all/38. Journey Data Extract 25May14-21Jun14.csv', mode 'rb' at 0x10b7bda50>"
       ]
      },
      {
       "output_type": "stream",
       "stream": "stdout",
       "text": [
        "\n",
        "<open file './bike-rides/all/39. Journey Data Extract 22Jun14-19Jul14.csv', mode 'rb' at 0x10b7bdae0>"
       ]
      },
      {
       "output_type": "stream",
       "stream": "stdout",
       "text": [
        "\n"
       ]
      },
      {
       "output_type": "stream",
       "stream": "stderr",
       "text": [
        "/usr/local/lib/python2.7/site-packages/pandas/io/parsers.py:1139: DtypeWarning: Columns (7) have mixed types. Specify dtype option on import or set low_memory=False.\n",
        "  data = self._reader.read(nrows)\n"
       ]
      }
     ],
     "prompt_number": 163
    },
    {
     "cell_type": "code",
     "collapsed": false,
     "input": [
      "filtered_rides, top_stations = bike_prediction.read_data.filter_top_stations(rides, 100)\n",
      "\n",
      "# filtered_c = [None, None, None]\n",
      "# filtered_c[0] = bike_prediction.read_data.filter_top_clusters(rides, 1,  20)\n",
      "# filtered_c[1] = bike_prediction.read_data.filter_top_clusters(rides, 21, 50)\n",
      "# filtered_c[2] = bike_prediction.read_data.filter_top_clusters(rides, 51, 100)"
     ],
     "language": "python",
     "metadata": {},
     "outputs": [
      {
       "output_type": "stream",
       "stream": "stdout",
       "text": [
        "[ 14 191 154 307 194 303 217 374  55 251 132 101  73 104 213 553 193 406\n",
        " 341  39 407 404 278  41  95 248 153 112  18  64 234  12 356 541 246 215\n",
        "  45 109 270  17 428 203 239 202 199 116  66 300 192 386 130 282 427 135\n",
        " 119 107 229  71 574 233  77 225  33  32 304 436 177 290 321  24 331 228\n",
        " 338 361 252 350 115 214 159 340 237  48  74 335 272 316 126 264 326 268\n",
        " 167  19 133 572 195 432 298  16  46 162]\n"
       ]
      }
     ],
     "prompt_number": 125
    },
    {
     "cell_type": "code",
     "collapsed": false,
     "input": [
      "usage = bike_prediction.read_data.read_data(filtered_rides)"
     ],
     "language": "python",
     "metadata": {},
     "outputs": [],
     "prompt_number": 135
    },
    {
     "cell_type": "code",
     "collapsed": false,
     "input": [
      "usage_with_historic = bike_prediction.read_data.add_historic_features(usage)"
     ],
     "language": "python",
     "metadata": {},
     "outputs": [],
     "prompt_number": 158
    },
    {
     "cell_type": "code",
     "collapsed": false,
     "input": [
      "X = usage_with_historic.stack().reset_index(level=1)\n",
      "X = bike_prediction.read_data.filter_unknown_history(X)\n",
      "X = bike_prediction.read_data.add_weather_features(X)\n",
      "X = bike_prediction.read_data.add_weekday(X)"
     ],
     "language": "python",
     "metadata": {},
     "outputs": [],
     "prompt_number": 159
    },
    {
     "cell_type": "code",
     "collapsed": false,
     "input": [
      "X = bike_prediction.read_data.add_lat_long(X)\n",
      "X = bike_prediction.read_data.prepare_for_write(X)"
     ],
     "language": "python",
     "metadata": {},
     "outputs": [],
     "prompt_number": 160
    },
    {
     "cell_type": "code",
     "collapsed": false,
     "input": [
      "X = bike_prediction.read_data.add_cluster(X, filtered_c)"
     ],
     "language": "python",
     "metadata": {},
     "outputs": [],
     "prompt_number": 161
    },
    {
     "cell_type": "code",
     "collapsed": false,
     "input": [
      "X.to_csv('XY9_3H.csv')"
     ],
     "language": "python",
     "metadata": {},
     "outputs": [],
     "prompt_number": 162
    },
    {
     "cell_type": "code",
     "collapsed": false,
     "input": [
      "X['Y']['2013-01-20'].plot()"
     ],
     "language": "python",
     "metadata": {},
     "outputs": [
      {
       "metadata": {},
       "output_type": "pyout",
       "prompt_number": 157,
       "text": [
        "<matplotlib.axes._subplots.AxesSubplot at 0x10bb7d290>"
       ]
      },
      {
       "metadata": {},
       "output_type": "display_data",
       "png": "[encoded data removed]",
       "text": [
        "<matplotlib.figure.Figure at 0x10bb7d2d0>"
       ]
      }
     ],
     "prompt_number": 157
    },
    {
     "cell_type": "code",
     "collapsed": false,
     "input": [
      "# X[X['StartStation Id']==194]['h23']['2014-02-1':'2014-02-15'].plot()\n",
      "X[X['StartStation Id']==300]['holiday'].plot()"
     ],
     "language": "python",
     "metadata": {},
     "outputs": [
      {
       "metadata": {},
       "output_type": "pyout",
       "prompt_number": 110,
       "text": [
        "<matplotlib.axes._subplots.AxesSubplot at 0x10cc87210>"
       ]
      },
      {
       "metadata": {},
       "output_type": "display_data",
       "png": "[encoded data removed]",
       "text": [
        "<matplotlib.figure.Figure at 0x10cc95390>"
       ]
      }
     ],
     "prompt_number": 110
    },
    {
     "cell_type": "code",
     "collapsed": false,
     "input": [
      "X[X['StartStation Id']==154]['Y'].plot()"
     ],
     "language": "python",
     "metadata": {},
     "outputs": [
      {
       "metadata": {},
       "output_type": "pyout",
       "prompt_number": 88,
       "text": [
        "<matplotlib.axes._subplots.AxesSubplot at 0x1144e4310>"
       ]
      },
      {
       "metadata": {},
       "output_type": "display_data",
       "png": "[encoded data removed]",
       "text": [
        "<matplotlib.figure.Figure at 0x114b95810>"
       ]
      }
     ],
     "prompt_number": 88
    },
    {
     "cell_type": "code",
     "collapsed": false,
     "input": [],
     "language": "python",
     "metadata": {},
     "outputs": []
    }
   ],
   "metadata": {}
  }
 ]
}