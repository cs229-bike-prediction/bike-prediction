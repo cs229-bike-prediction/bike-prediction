{
 "metadata": {
  "name": ""
 },
 "nbformat": 3,
 "nbformat_minor": 0,
 "worksheets": [
  {
   "cells": [
    {
     "cell_type": "code",
     "collapsed": false,
     "input": [
      "%load_ext autoreload\n",
      "%autoreload 2\n",
      "%matplotlib inline\n",
      "import pandas as pd\n",
      "import bike_prediction.read_data\n",
      "import timeit\n",
      "\n",
      "from pandas.tseries.offsets import Day"
     ],
     "language": "python",
     "metadata": {},
     "outputs": [
      {
       "output_type": "stream",
       "stream": "stdout",
       "text": [
        "The autoreload extension is already loaded. To reload it, use:\n",
        "  %reload_ext autoreload\n"
       ]
      }
     ],
     "prompt_number": 131
    },
    {
     "cell_type": "code",
     "collapsed": false,
     "input": [
      "#timeit.timeit(stmt='bike_prediction.read_data.get_rides()', setup=\"import bike_prediction.read_data\", number=2)\n",
      "rides = bike_prediction.read_data.get_rides(5)"
     ],
     "language": "python",
     "metadata": {},
     "outputs": [],
     "prompt_number": 67
    },
    {
     "cell_type": "code",
     "collapsed": false,
     "input": [
      "usage = bike_prediction.read_data.read_data(rides)"
     ],
     "language": "python",
     "metadata": {},
     "outputs": [],
     "prompt_number": 122
    },
    {
     "cell_type": "code",
     "collapsed": false,
     "input": [
      "usage_with_historic = bike_prediction.read_data.add_historic_features(usage)"
     ],
     "language": "python",
     "metadata": {},
     "outputs": [],
     "prompt_number": 123
    },
    {
     "cell_type": "code",
     "collapsed": false,
     "input": [
      "X = usage_with_historic.stack().reset_index(level=1)\n",
      "X = bike_prediction.read_data.filter_unknown_history(X)\n",
      "X = bike_prediction.read_data.add_weather_features(X)"
     ],
     "language": "python",
     "metadata": {},
     "outputs": [],
     "prompt_number": 136
    },
    {
     "cell_type": "code",
     "collapsed": false,
     "input": [
      "X = bike_prediction.read_data.add_lat_long(X)\n",
      "X = bike_prediction.read_data.prepare_for_write(X)"
     ],
     "language": "python",
     "metadata": {},
     "outputs": [],
     "prompt_number": 138
    },
    {
     "cell_type": "code",
     "collapsed": false,
     "input": [
      "X.to_csv('XY3.csv')"
     ],
     "language": "python",
     "metadata": {},
     "outputs": [],
     "prompt_number": 140
    },
    {
     "cell_type": "code",
     "collapsed": false,
     "input": [
      "X.iloc[100000]"
     ],
     "language": "python",
     "metadata": {},
     "outputs": [
      {
       "metadata": {},
       "output_type": "pyout",
       "prompt_number": 142,
       "text": [
        "d1                    0.000000\n",
        "d14                   0.000000\n",
        "d2                    0.000000\n",
        "d3                    0.000000\n",
        "d7                    0.000000\n",
        "Mean TemperatureF    30.000000\n",
        "weather               4.000000\n",
        "lats                 51.535836\n",
        "longs                -0.156285\n",
        "Y                     0.000000\n",
        "Name: 2013-01-22 11:00:00, dtype: float64"
       ]
      }
     ],
     "prompt_number": 142
    },
    {
     "cell_type": "code",
     "collapsed": false,
     "input": [
      "X.iloc[68]"
     ],
     "language": "python",
     "metadata": {},
     "outputs": [
      {
       "metadata": {},
       "output_type": "pyout",
       "prompt_number": 139,
       "text": [
        "d1                    1.000000\n",
        "d14                   0.000000\n",
        "d2                    1.000000\n",
        "d3                    0.000000\n",
        "d7                    0.000000\n",
        "Mean TemperatureF    32.000000\n",
        "weather               4.000000\n",
        "lats                 51.520859\n",
        "longs                -0.089888\n",
        "Y                     0.000000\n",
        "Name: 2013-01-15 00:00:00, dtype: float64"
       ]
      }
     ],
     "prompt_number": 139
    },
    {
     "cell_type": "code",
     "collapsed": false,
     "input": [],
     "language": "python",
     "metadata": {},
     "outputs": []
    }
   ],
   "metadata": {}
  }
 ]
}