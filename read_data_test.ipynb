{
 "metadata": {
  "name": ""
 },
 "nbformat": 3,
 "nbformat_minor": 0,
 "worksheets": [
  {
   "cells": [
    {
     "cell_type": "code",
     "collapsed": false,
     "input": [
      "%load_ext autoreload\n",
      "%autoreload 2\n",
      "%matplotlib inline\n",
      "import pandas as pd\n",
      "import bike_prediction.read_data\n",
      "import timeit"
     ],
     "language": "python",
     "metadata": {},
     "outputs": [
      {
       "output_type": "stream",
       "stream": "stdout",
       "text": [
        "The autoreload extension is already loaded. To reload it, use:\n",
        "  %reload_ext autoreload\n"
       ]
      }
     ],
     "prompt_number": 6
    },
    {
     "cell_type": "code",
     "collapsed": false,
     "input": [
      "#timeit.timeit(stmt='bike_prediction.read_data.get_rides()', setup=\"import bike_prediction.read_data\", number=2)\n",
      "rides = bike_prediction.read_data.get_rides(5)"
     ],
     "language": "python",
     "metadata": {},
     "outputs": [
      {
       "output_type": "stream",
       "stream": "stdout",
       "text": [
        "<open file './bike-rides/2013-2014/01. Journey Data Extract 01Jan-05Jan13.csv', mode 'rb' at 0x10e138db0>\n",
        "<open file './bike-rides/2013-2014/02. Journey Data Extract 06Jan-02Feb13.csv', mode 'rb' at 0x10e138c00>"
       ]
      },
      {
       "output_type": "stream",
       "stream": "stdout",
       "text": [
        "\n",
        "<open file './bike-rides/2013-2014/03. Journey Data Extract 03Feb-02Mar13.csv', mode 'rb' at 0x10e138930>"
       ]
      },
      {
       "output_type": "stream",
       "stream": "stdout",
       "text": [
        "\n",
        "<open file './bike-rides/2013-2014/04. Journey Data Extract 03Mar-31Mar13.csv', mode 'rb' at 0x10e138780>"
       ]
      },
      {
       "output_type": "stream",
       "stream": "stdout",
       "text": [
        "\n",
        "<open file './bike-rides/2013-2014/05. Journey Data Extract 01Apr-27Apr13.csv', mode 'rb' at 0x10e1388a0>"
       ]
      },
      {
       "output_type": "stream",
       "stream": "stdout",
       "text": [
        "\n"
       ]
      }
     ],
     "prompt_number": 7
    },
    {
     "cell_type": "code",
     "collapsed": false,
     "input": [
      "filtered_rides, top_stations = bike_prediction.read_data.filter_top_stations(rides, 50)\n",
      "\n",
      "filtered_c = [None, None, None]\n",
      "filtered_c[0] = bike_prediction.read_data.filter_top_clusters(rides, 1,  15)\n",
      "filtered_c[1] = bike_prediction.read_data.filter_top_clusters(rides, 16, 30)\n",
      "filtered_c[2] = bike_prediction.read_data.filter_top_clusters(rides, 31, 50)"
     ],
     "language": "python",
     "metadata": {},
     "outputs": [
      {
       "output_type": "stream",
       "stream": "stdout",
       "text": [
        "[ 14 154 194 101 191 217 112 251  55  73 104  95 193 307  41  12 132 303\n",
        "  39 278 246  66 270 341 553 234  64  18 374 202  45 282  17 203 199 239\n",
        " 215 407 109 119 428 237 135  77 331  33 340 316  19 214]\n"
       ]
      }
     ],
     "prompt_number": 41
    },
    {
     "cell_type": "code",
     "collapsed": false,
     "input": [
      "usage = bike_prediction.read_data.read_data(filtered_rides)"
     ],
     "language": "python",
     "metadata": {},
     "outputs": [],
     "prompt_number": 28
    },
    {
     "cell_type": "code",
     "collapsed": false,
     "input": [
      "usage_with_historic = bike_prediction.read_data.add_historic_features(usage)"
     ],
     "language": "python",
     "metadata": {},
     "outputs": [],
     "prompt_number": 74
    },
    {
     "cell_type": "code",
     "collapsed": false,
     "input": [
      "X = usage_with_historic.stack().reset_index(level=1)\n",
      "X = X[:'2013-03']\n",
      "X = bike_prediction.read_data.filter_unknown_history(X)\n",
      "X = bike_prediction.read_data.add_weather_features(X)\n",
      "X = bike_prediction.read_data.add_weekday(X)"
     ],
     "language": "python",
     "metadata": {},
     "outputs": [],
     "prompt_number": 78
    },
    {
     "cell_type": "code",
     "collapsed": false,
     "input": [
      "X = bike_prediction.read_data.add_lat_long(X)\n",
      "X = bike_prediction.read_data.prepare_for_write(X)"
     ],
     "language": "python",
     "metadata": {},
     "outputs": [],
     "prompt_number": 79
    },
    {
     "cell_type": "code",
     "collapsed": false,
     "input": [
      "X = bike_prediction.read_data.add_cluster(X, filtered_c)"
     ],
     "language": "python",
     "metadata": {},
     "outputs": [],
     "prompt_number": 80
    },
    {
     "cell_type": "code",
     "collapsed": false,
     "input": [
      "X.to_csv('XY11_1H.csv')"
     ],
     "language": "python",
     "metadata": {},
     "outputs": [],
     "prompt_number": 81
    },
    {
     "cell_type": "code",
     "collapsed": false,
     "input": [
      "X.shape"
     ],
     "language": "python",
     "metadata": {},
     "outputs": [
      {
       "metadata": {},
       "output_type": "pyout",
       "prompt_number": 82,
       "text": [
        "(90900, 37)"
       ]
      }
     ],
     "prompt_number": 82
    },
    {
     "cell_type": "code",
     "collapsed": false,
     "input": [
      "# X[X['StartStation Id']==194]['h23']['2014-02-1':'2014-02-15'].plot()\n",
      "X[X['StartStation Id']==154]['Y']['2013-02-05'].plot()"
     ],
     "language": "python",
     "metadata": {},
     "outputs": [
      {
       "metadata": {},
       "output_type": "pyout",
       "prompt_number": 52,
       "text": [
        "<matplotlib.axes._subplots.AxesSubplot at 0x1a2810e10>"
       ]
      },
      {
       "metadata": {},
       "output_type": "display_data",
       "png": "[encoded data removed]",
       "text": [
        "<matplotlib.figure.Figure at 0x10dc30150>"
       ]
      }
     ],
     "prompt_number": 52
    },
    {
     "cell_type": "code",
     "collapsed": false,
     "input": [
      "X[X['StartStation Id']==154]['Y'].plot()"
     ],
     "language": "python",
     "metadata": {},
     "outputs": [
      {
       "metadata": {},
       "output_type": "pyout",
       "prompt_number": 50,
       "text": [
        "<matplotlib.axes._subplots.AxesSubplot at 0x10c2ce690>"
       ]
      },
      {
       "metadata": {},
       "output_type": "display_data",
       "png": "[encoded data removed]",
       "text": [
        "<matplotlib.figure.Figure at 0x108ec2090>"
       ]
      }
     ],
     "prompt_number": 50
    },
    {
     "cell_type": "code",
     "collapsed": false,
     "input": [
      "X.shape"
     ],
     "language": "python",
     "metadata": {},
     "outputs": [
      {
       "metadata": {},
       "output_type": "pyout",
       "prompt_number": 26,
       "text": [
        "(178752, 20)"
       ]
      }
     ],
     "prompt_number": 26
    },
    {
     "cell_type": "code",
     "collapsed": false,
     "input": [],
     "language": "python",
     "metadata": {},
     "outputs": []
    }
   ],
   "metadata": {}
  }
 ]
}