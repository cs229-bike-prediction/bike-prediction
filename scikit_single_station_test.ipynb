{
 "metadata": {
  "name": "",
  "signature": "sha256:90711cd5e27dd4a01df4dcf9b474a866724559eaccd04f51cb0430a1efb51348"
 },
 "nbformat": 3,
 "nbformat_minor": 0,
 "worksheets": [
  {
   "cells": [
    {
     "cell_type": "code",
     "collapsed": false,
     "input": [
      "%load_ext autoreload\n",
      "%autoreload 2\n",
      "%matplotlib inline\n",
      "from sklearn import svm\n",
      "import numpy as np\n",
      "from pylab import *"
     ],
     "language": "python",
     "metadata": {},
     "outputs": [],
     "prompt_number": 1
    },
    {
     "cell_type": "code",
     "collapsed": false,
     "input": [
      "recZ = np.recfromcsv('XY3.csv', names=True, usecols=(1,2,3,4,5,6,7,8))"
     ],
     "language": "python",
     "metadata": {},
     "outputs": [],
     "prompt_number": 24
    },
    {
     "cell_type": "code",
     "collapsed": false,
     "input": [
      "Z = recZ.view('<f8').reshape(recZ.shape[0], 8)"
     ],
     "language": "python",
     "metadata": {},
     "outputs": [],
     "prompt_number": 25
    },
    {
     "cell_type": "code",
     "collapsed": false,
     "input": [
      "X = Z[:,0:6]\n",
      "Y = Z[:,7]\n",
      "X"
     ],
     "language": "python",
     "metadata": {},
     "outputs": [
      {
       "metadata": {},
       "output_type": "pyout",
       "prompt_number": 26,
       "text": [
        "array([[  4.00000000e+000,   3.00000000e+000,   2.00000000e+000,\n",
        "          4.00000000e+000,   2.00000000e+000,   1.58101007e-322],\n",
        "       [  1.00000000e+000,   6.00000000e+000,   5.00000000e+000,\n",
        "          5.00000000e+000,   2.00000000e+000,   1.58101007e-322],\n",
        "       [  3.00000000e+000,   4.00000000e+000,   4.00000000e+000,\n",
        "          0.00000000e+000,   3.00000000e+000,   1.43279037e-322],\n",
        "       ..., \n",
        "       [  4.00000000e+000,   5.00000000e+000,   3.00000000e+000,\n",
        "          6.00000000e+000,   4.00000000e+000,   2.27270197e-322],\n",
        "       [  3.00000000e+000,   2.00000000e+000,   3.00000000e+000,\n",
        "          1.00000000e+000,   1.30000000e+001,   2.27270197e-322],\n",
        "       [  3.00000000e+000,   1.00000000e+000,   4.00000000e+000,\n",
        "          1.00000000e+000,   5.00000000e+000,   2.27270197e-322]])"
       ]
      }
     ],
     "prompt_number": 26
    },
    {
     "cell_type": "code",
     "collapsed": false,
     "input": [
      "trainratio = 0.7\n",
      "m = X.shape[0]\n",
      "X_train = X[:m*trainratio]\n",
      "Y_train = Y[:m*trainratio]\n",
      "X_test = X[m*trainratio+1:]\n",
      "Y_test = Y[m*trainratio+1:]"
     ],
     "language": "python",
     "metadata": {},
     "outputs": [],
     "prompt_number": 27
    },
    {
     "cell_type": "code",
     "collapsed": false,
     "input": [
      "clf = svm.SVR()\n",
      "clf.fit(X_train,Y_train)"
     ],
     "language": "python",
     "metadata": {},
     "outputs": [
      {
       "metadata": {},
       "output_type": "pyout",
       "prompt_number": 28,
       "text": [
        "SVR(C=1.0, cache_size=200, coef0=0.0, degree=3, epsilon=0.1, gamma=0.0,\n",
        "  kernel='rbf', max_iter=-1, probability=False, random_state=None,\n",
        "  shrinking=True, tol=0.001, verbose=False)"
       ]
      }
     ],
     "prompt_number": 28
    },
    {
     "cell_type": "code",
     "collapsed": false,
     "input": [
      "test_predictions = clf.predict(X_test)\n",
      "test_error = Y_test - test_predictions\n",
      "test_error.shape\n",
      "plot(test_predictions)\n",
      "hold\n",
      "plot(Y_test)"
     ],
     "language": "python",
     "metadata": {},
     "outputs": [
      {
       "metadata": {},
       "output_type": "pyout",
       "prompt_number": 23,
       "text": [
        "[<matplotlib.lines.Line2D at 0x10d25eed0>]"
       ]
      },
      {
       "metadata": {},
       "output_type": "display_data",
       "png": "[encoded data removed]",
       "text": [
        "<matplotlib.figure.Figure at 0x10d145a10>"
       ]
      }
     ],
     "prompt_number": 23
    },
    {
     "cell_type": "code",
     "collapsed": false,
     "input": [
      "Y[400]"
     ],
     "language": "python",
     "metadata": {},
     "outputs": [
      {
       "metadata": {},
       "output_type": "pyout",
       "prompt_number": 8,
       "text": [
        "1279.0"
       ]
      }
     ],
     "prompt_number": 8
    },
    {
     "cell_type": "code",
     "collapsed": false,
     "input": [
      "X.shape"
     ],
     "language": "python",
     "metadata": {},
     "outputs": [
      {
       "metadata": {},
       "output_type": "pyout",
       "prompt_number": 9,
       "text": [
        "(2472, 6)"
       ]
      }
     ],
     "prompt_number": 9
    },
    {
     "cell_type": "code",
     "collapsed": false,
     "input": [],
     "language": "python",
     "metadata": {},
     "outputs": []
    }
   ],
   "metadata": {}
  }
 ]
}